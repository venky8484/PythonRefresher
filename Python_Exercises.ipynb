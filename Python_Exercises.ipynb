{
  "nbformat": 4,
  "nbformat_minor": 0,
  "metadata": {
    "colab": {
      "provenance": [],
      "authorship_tag": "ABX9TyPGDPItGI30bwhyt9X97PjK",
      "include_colab_link": true
    },
    "kernelspec": {
      "name": "python3",
      "display_name": "Python 3"
    },
    "language_info": {
      "name": "python"
    }
  },
  "cells": [
    {
      "cell_type": "markdown",
      "metadata": {
        "id": "view-in-github",
        "colab_type": "text"
      },
      "source": [
        "<a href=\"https://colab.research.google.com/github/venky8484/PythonRefresher/blob/main/Python_Exercises.ipynb\" target=\"_parent\"><img src=\"https://colab.research.google.com/assets/colab-badge.svg\" alt=\"Open In Colab\"/></a>"
      ]
    },
    {
      "cell_type": "code",
      "execution_count": null,
      "metadata": {
        "id": "cHu50ovuHaxj"
      },
      "outputs": [],
      "source": [
        "def divisors(n):\n",
        "    input=n\n",
        "    half=n/2;\n",
        "    print(f\"half value is {half}\")\n",
        "    i=1\n",
        "    out=1\n",
        "    while(i<=half):\n",
        "        if n % i == 0:\n",
        "            out=out+1\n",
        "            print(f\"out value is {i}\")\n",
        "        i=i+1\n",
        "    return out\n"
      ]
    },
    {
      "cell_type": "markdown",
      "source": [
        "Function using List Comprehension"
      ],
      "metadata": {
        "id": "WTuYu5D41zD6"
      }
    },
    {
      "cell_type": "code",
      "source": [
        "def divisors_v2(a):\n",
        "  return [i for i in range(1,a+1) if a%i==0 ]\n",
        "b=divisors_v2(57)\n",
        "print(b)"
      ],
      "metadata": {
        "colab": {
          "base_uri": "https://localhost:8080/"
        },
        "id": "SV-gpWTmjFAk",
        "outputId": "44b04061-ffb5-46ae-cb29-a5206edce779"
      },
      "execution_count": null,
      "outputs": [
        {
          "output_type": "stream",
          "name": "stdout",
          "text": [
            "[1, 3, 19, 57]\n"
          ]
        }
      ]
    },
    {
      "cell_type": "markdown",
      "source": [
        "Function using generator expression"
      ],
      "metadata": {
        "id": "jajXqz4N1qcY"
      }
    },
    {
      "cell_type": "code",
      "source": [
        "def func(n):\n",
        "  #Iterating the generator object using sum\n",
        "    return sum((int(i)**2) for i in str(n))\n",
        "a=func(15)\n",
        "print(a)\n",
        "\n",
        "def func2(n):\n",
        "  #Iterating the generator object using join method\n",
        "    return (''.join(str((int(i)**2)) for i in str(n)))\n",
        "b=func2(15)\n",
        "print(b)\n"
      ],
      "metadata": {
        "id": "3uYY4z9AsORE",
        "colab": {
          "base_uri": "https://localhost:8080/"
        },
        "outputId": "848b3280-b9e5-43c7-b725-e7d72e334bcb"
      },
      "execution_count": 38,
      "outputs": [
        {
          "output_type": "stream",
          "name": "stdout",
          "text": [
            "26\n",
            "125\n"
          ]
        }
      ]
    },
    {
      "cell_type": "code",
      "source": [],
      "metadata": {
        "id": "fVCXgRtAzsFh"
      },
      "execution_count": null,
      "outputs": []
    },
    {
      "cell_type": "code",
      "source": [],
      "metadata": {
        "id": "e3zDU6D2ytBu"
      },
      "execution_count": null,
      "outputs": []
    }
  ]
}